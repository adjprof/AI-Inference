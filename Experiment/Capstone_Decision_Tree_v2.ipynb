# This model uses party as the target variable/label

import pandas as pd
from sklearn.model_selection import train_test_split
from sklearn import tree
from sklearn.metrics import accuracy_score
from sklearn.metrics import confusion_matrix
import io
import numpy as np


## Import Data
# Use categories: state,zipcode,ethnicity,income,age,sex,education,marriage,childen,party
# Data goes into 'X', labels go into 'y'
from google.colab import files
uploaded = files.upload()


# raw data
# Done using #3, but proportional votes below
#X = pd.read_csv(io.BytesIO(uploaded['IA_synthetic_full_data_Output_Oct21.csv']))
#X = X.drop('state', axis=1)

# anonymized data
X = pd.read_csv(io.BytesIO(uploaded['k_3_anon_IA_data_full_Oct21.csv']))
X = X.drop('state', axis=1)
X = X.drop([8, 186254], axis=0)

# USE THIS FRAME FOR INDIVIDUAL MODEL TESTING
# Split, model, fit


## Pull registered party off data to use as labels
# ??? dem=0, rep=1, lib=2 ???
#y = X['party']
#X = X.drop('party', 1)
X = X.drop('zipcode', 1)


## Split data into train, dev, test; 70% train, 15% dev, 15% test
X_train, X_test, y_train, y_test = train_test_split(X, y, test_size=0.3, random_state=1)
X_dev, X_test, y_dev, y_test = train_test_split(X_test, y_test, test_size=0.5, random_state=1)


## Make decision tree
model = tree.DecisionTreeClassifier()

## Fit the data
model.fit(X_train, y_train)

# Use this frame for DEV data only!!!

## Predict
y_d_predict = model.predict(X_dev)

## Test how accurate we are
print(accuracy_score(y_dev, y_d_predict))

## Check confusion matrix
print(confusion_matrix(y_dev, y_d_predict))
